{
  "nbformat": 4,
  "nbformat_minor": 0,
  "metadata": {
    "colab": {
      "provenance": [],
      "authorship_tag": "ABX9TyP5EONrhqvNcgIGdKQnwUg2",
      "include_colab_link": true
    },
    "kernelspec": {
      "name": "python3",
      "display_name": "Python 3"
    },
    "language_info": {
      "name": "python"
    }
  },
  "cells": [
    {
      "cell_type": "markdown",
      "metadata": {
        "id": "view-in-github",
        "colab_type": "text"
      },
      "source": [
        "<a href=\"https://colab.research.google.com/github/DevAssis/equipehabil/blob/master/equipehabil.ipynb\" target=\"_parent\"><img src=\"https://colab.research.google.com/assets/colab-badge.svg\" alt=\"Open In Colab\"/></a>"
      ]
    },
    {
      "cell_type": "markdown",
      "source": [
        "#**Documentação do Projeto: Equipes Balanceada**s\n",
        "\n",
        "##*Objetivo do Projeto*:\n",
        "\n",
        "O objetivo do projeto foi criar um algoritmo capaz de montar equipes balanceadas, a partir de um conjunto de jogadores com diferentes níveis de habilidade. Para isso, foram utilizadas técnicas de Ciências de Dados, com a linguagem Python e as bibliotecas Pandas e itertools.\n",
        "\n",
        "##*Linguagem e Bibliotecas:*\n",
        "\n",
        "O projeto foi desenvolvido na linguagem Python, utilizando o ambiente Google Colab para facilitar a execução do código. As bibliotecas utilizadas foram:\n",
        "\n",
        "*   pandas: utilizada para manipulação e análise de dados.\n",
        "*   itertools: utilizada para gerar todas as combinações possíveis de equipes.\n",
        "\n",
        "##*Passo a Passo do Projeto:*\n",
        "\n",
        "1.   Primeiramente, foi criado um DataFrame com os jogadores e seus respectivos níveis de habilidade.\n",
        "2.   Em seguida, foram geradas todas as combinações possíveis de equipes, a partir dos jogadores disponíveis.\n",
        "3.   Para cada combinação de equipes, foi calculada a média de habilidade de cada equipe\n",
        "4.   A partir das médias calculadas, foi obtida a diferença entre as médias das equipes.\n",
        "5.   Se a diferença entre as médias das equipes for menor que a menor diferença encontrada até o momento, as melhores combinações e a menor diferença foram atualizadas.\n",
        "6.   Ao final do processo, foram impressas as melhores combinações e suas respectivas médias de habilidade.\n",
        "\n",
        "##*Codificação do Projeto:*"
      ],
      "metadata": {
        "id": "7RD-UIhGGRB4"
      }
    },
    {
      "cell_type": "code",
      "source": [
        "# Importando as Bibliotecas\n",
        "import pandas as pd\n",
        "import itertools"
      ],
      "metadata": {
        "id": "A8-bVZ9ZJ_II"
      },
      "execution_count": 1,
      "outputs": []
    },
    {
      "cell_type": "code",
      "source": [
        "# Cria o DataFrame com os jogadores e seus respectivos níveis de habilidade\n",
        "jogadores = pd.DataFrame({'Jogador': ['Fernando', 'Thales', 'Diogo', 'Ricardo', 'Aline', 'João', 'Gustavo', 'Albino', 'Wellinton'], \n",
        "                          'Habilidade': [9, 8, 3, 7, 8, 10, 6, 5, 3]})\n"
      ],
      "metadata": {
        "id": "FGBu2EFFKKpu"
      },
      "execution_count": 2,
      "outputs": []
    },
    {
      "cell_type": "code",
      "source": [
        "# Gera todas as combinações possíveis de equipes\n",
        "combinacoes = list(itertools.combinations(jogadores['Jogador'], 3))"
      ],
      "metadata": {
        "id": "-2iuGENPKQc9"
      },
      "execution_count": 3,
      "outputs": []
    },
    {
      "cell_type": "code",
      "source": [
        "# Inicializa as variáveis para armazenar as melhores combinações e suas médias\n",
        "melhores_combinacoes = []\n",
        "media_minima = float('inf')"
      ],
      "metadata": {
        "id": "GCJGpqRUKXpl"
      },
      "execution_count": 4,
      "outputs": []
    },
    {
      "cell_type": "code",
      "source": [
        "# Loop para avaliar cada combinação e encontrar as melhores\n",
        "for equipe1 in combinacoes:\n",
        "    # Seleciona os jogadores que não estão na equipe1 para formar as outras duas equipes\n",
        "    restantes = list(set(jogadores['Jogador']) - set(equipe1))\n",
        "    \n",
        "    for equipe2 in itertools.combinations(restantes, 3):\n",
        "        # Seleciona os jogadores que não estão na equipe1 nem na equipe2 para formar a terceira equipe\n",
        "        equipe3 = list(set(restantes) - set(equipe2))\n",
        "        \n",
        "        # Calcula a média de habilidade de cada equipe\n",
        "        media1 = jogadores[jogadores['Jogador'].isin(list(equipe1))]['Habilidade'].mean()\n",
        "        media2 = jogadores[jogadores['Jogador'].isin(list(equipe2))]['Habilidade'].mean()\n",
        "        media3 = jogadores[jogadores['Jogador'].isin(list(equipe3))]['Habilidade'].mean()\n",
        "        \n",
        "        # Calcula a diferença entre as médias de habilidade das equipes\n",
        "        diferenca_medias = max(media1, media2, media3) - min(media1, media2, media3)\n",
        "        \n",
        "        # Se a diferença entre as médias das equipes for menor que a menor diferença encontrada até o momento, \n",
        "        # atualiza as melhores combinações e a menor diferença\n",
        "        if diferenca_medias < media_minima:\n",
        "            melhores_combinacoes = [(equipe1, equipe2, equipe3)]\n",
        "            media_minima = diferenca_medias\n",
        "        elif diferenca_medias == media_minima:\n",
        "            melhores_combinacoes.append((equipe1, equipe2, equipe3))"
      ],
      "metadata": {
        "id": "eMUbynmxKaA3"
      },
      "execution_count": 5,
      "outputs": []
    },
    {
      "cell_type": "code",
      "source": [
        "# Imprime as melhores combinações e suas médias\n",
        "for i, combinacao in enumerate(melhores_combinacoes[:2]):\n",
        "    print(f\"Melhor combinação {i+1}:\")\n",
        "    for j, equipe in enumerate(combinacao):\n",
        "        media = jogadores[jogadores['Jogador'].isin(list(equipe))]['Habilidade'].mean()\n",
        "        print(f\"Equipe {j+1}: {', '.join(list(equipe))} - Média de habilidade: {media:.2f}\")\n",
        "    print(\"\\n\")"
      ],
      "metadata": {
        "colab": {
          "base_uri": "https://localhost:8080/"
        },
        "id": "pHV-KTtCK86Y",
        "outputId": "6da58253-b223-4578-bb91-f3788fce9bca"
      },
      "execution_count": 7,
      "outputs": [
        {
          "output_type": "stream",
          "name": "stdout",
          "text": [
            "Melhor combinação 1:\n",
            "Equipe 1: Fernando, Thales, Diogo - Média de habilidade: 6.67\n",
            "Equipe 2: Aline, Ricardo, Albino - Média de habilidade: 6.67\n",
            "Equipe 3: Wellinton, João, Gustavo - Média de habilidade: 6.33\n",
            "\n",
            "\n",
            "Melhor combinação 2:\n",
            "Equipe 1: Fernando, Thales, Diogo - Média de habilidade: 6.67\n",
            "Equipe 2: Aline, Gustavo, Albino - Média de habilidade: 6.33\n",
            "Equipe 3: Wellinton, João, Ricardo - Média de habilidade: 6.67\n",
            "\n",
            "\n"
          ]
        }
      ]
    },
    {
      "cell_type": "markdown",
      "source": [
        "##*Solução Encontrada:*\n",
        "\n",
        "A solução encontrada foi um algoritmo capaz de montar as equipes de forma a obter a menor diferença de habilidade entre cada uma delas. O algoritmo leva em consideração todas as combinações possíveis de equipes e escolhe as melhores, com base na diferença entre as médias de habilidade.\n",
        "\n",
        "De acordo com a analise nos resultados, foi determinado até 2 melhores Combinações de Equipes. Conforme a linha de comando abaixo:\n",
        "\n",
        "![qtdcombinacao.png](data:image/png;base64,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)\n",
        "\n",
        "\n",
        "Mas é possivel gerar muito mais combinações. Onde se obterá apenas variações de posição dos jogadores dentro de sua equipe, não alterando os resultados das medias de habilidades.\n",
        "\n",
        "\n",
        "##*Resultados:*\n",
        "\n",
        "Melhor combinação 1:\n",
        "\n",
        "* Equipe 1: Fernando, Thales, Diogo - Média de habilidade: 6.67\n",
        "\n",
        "* Equipe 2: Aline, Ricardo, Albino - Média de habilidade: 6.67\n",
        "\n",
        "* Equipe 3: Wellinton, João, Gustavo - Média de habilidade: 6.33\n",
        "\n",
        "\n",
        "Melhor combinação 2:\n",
        "\n",
        "* Equipe 1: Fernando, Thales, Diogo - Média de habilidade: 6.67\n",
        "\n",
        "* Equipe 2: Aline, Gustavo, Albino - Média de habilidade: 6.33\n",
        "\n",
        "* Equipe 3: Wellinton, João, Ricardo - Média de habilidade: 6.67\n",
        "\n",
        "\n"
      ],
      "metadata": {
        "id": "ePX6yWqoK3k_"
      }
    },
    {
      "cell_type": "markdown",
      "source": [
        "##*Sugestões de Melhorias*\n",
        "\n",
        "Algumas sugestões de melhorias para o algoritmo são:\n",
        "\n",
        "* Implementar uma função para verificar se cada jogador pertence a apenas uma equipe.\n",
        "* Implementar uma função para garantir que cada equipe tenha exatamente 3 jogadores.\n",
        "* Realizar testes com outros conjuntos de dados, a fim de avaliar a eficácia do algoritmo em diferentes situações.\n",
        "* Implementar uma interface gráfica para que o usuário possa inserir os dados dos jogadores e visualizar as melhores combinações;\n",
        "* Permitir que o usuário defina o número de equipes desejado;\n",
        "* Utilizar algoritmos de aprendizado de máquina para encontrar automaticamente as melhores combinações de equipes."
      ],
      "metadata": {
        "id": "IyHbV2RlUPRf"
      }
    }
  ]
}